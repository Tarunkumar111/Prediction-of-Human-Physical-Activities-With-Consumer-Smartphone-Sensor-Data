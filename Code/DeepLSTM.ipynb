{
 "cells": [
  {
   "cell_type": "code",
   "execution_count": null,
   "metadata": {
    "id": "hpQLbkjFKMue"
   },
   "outputs": [],
   "source": [
    "import warnings\n",
    "warnings.filterwarnings(\"ignore\")\n",
    "warnings.simplefilter(action='ignore', category=FutureWarning)\n",
    "warnings.simplefilter(action='ignore', category=UserWarning)\n",
    "import pandas as pd\n",
    "import numpy as np\n",
    "import pickle\n",
    "import matplotlib.pyplot as plt\n",
    "from scipy import stats\n",
    "import tensorflow as tf\n",
    "import seaborn as sns\n",
    "from pylab import rcParams\n",
    "from sklearn import metrics\n",
    "from sklearn.model_selection import train_test_split\n",
    "\n",
    "\n",
    "%matplotlib inline\n",
    "\n",
    "sns.set(style='whitegrid', palette='muted', font_scale=1.5)\n",
    "\n",
    "rcParams['figure.figsize'] = 14, 8\n",
    "\n",
    "RANDOM_SEED = 42\n",
    "import tensorflow as tf\n",
    "\n",
    "\n",
    "from keras import backend as K\n",
    "from keras.models import Sequential\n",
    "from keras.layers import LSTM , BatchNormalization\n",
    "from keras.layers.core import Dense, Dropout\n",
    "from keras.regularizers import L1L2"
   ]
  },
  {
   "cell_type": "code",
   "execution_count": null,
   "metadata": {
    "id": "2rMO4F5XKpWz"
   },
   "outputs": [],
   "source": [
    "columns = ['user','activity','timestamp', 'x-axis', 'y-axis', 'z-axis']\n",
    "df = pd.read_csv('/content/drive/MyDrive/Dataset/WISDM DATA/WISDM_ar_v1.1_raw.txt', header = None, names = columns)\n",
    "df = df.dropna()"
   ]
  },
  {
   "cell_type": "code",
   "execution_count": null,
   "metadata": {
    "colab": {
     "base_uri": "https://localhost:8080/",
     "height": 203
    },
    "id": "R1ceA1MDKpZk",
    "outputId": "ade12e41-1ae7-4814-d8bd-026eed8552fb"
   },
   "outputs": [
    {
     "data": {
      "text/html": [
       "<div>\n",
       "<style scoped>\n",
       "    .dataframe tbody tr th:only-of-type {\n",
       "        vertical-align: middle;\n",
       "    }\n",
       "\n",
       "    .dataframe tbody tr th {\n",
       "        vertical-align: top;\n",
       "    }\n",
       "\n",
       "    .dataframe thead th {\n",
       "        text-align: right;\n",
       "    }\n",
       "</style>\n",
       "<table border=\"1\" class=\"dataframe\">\n",
       "  <thead>\n",
       "    <tr style=\"text-align: right;\">\n",
       "      <th></th>\n",
       "      <th>user</th>\n",
       "      <th>activity</th>\n",
       "      <th>timestamp</th>\n",
       "      <th>x-axis</th>\n",
       "      <th>y-axis</th>\n",
       "      <th>z-axis</th>\n",
       "    </tr>\n",
       "  </thead>\n",
       "  <tbody>\n",
       "    <tr>\n",
       "      <th>0</th>\n",
       "      <td>33</td>\n",
       "      <td>Jogging</td>\n",
       "      <td>49105962326000</td>\n",
       "      <td>-0.694638</td>\n",
       "      <td>12.680544</td>\n",
       "      <td>0.503953</td>\n",
       "    </tr>\n",
       "    <tr>\n",
       "      <th>1</th>\n",
       "      <td>33</td>\n",
       "      <td>Jogging</td>\n",
       "      <td>49106062271000</td>\n",
       "      <td>5.012288</td>\n",
       "      <td>11.264028</td>\n",
       "      <td>0.953424</td>\n",
       "    </tr>\n",
       "    <tr>\n",
       "      <th>2</th>\n",
       "      <td>33</td>\n",
       "      <td>Jogging</td>\n",
       "      <td>49106112167000</td>\n",
       "      <td>4.903325</td>\n",
       "      <td>10.882658</td>\n",
       "      <td>-0.081722</td>\n",
       "    </tr>\n",
       "    <tr>\n",
       "      <th>3</th>\n",
       "      <td>33</td>\n",
       "      <td>Jogging</td>\n",
       "      <td>49106222305000</td>\n",
       "      <td>-0.612916</td>\n",
       "      <td>18.496431</td>\n",
       "      <td>3.023717</td>\n",
       "    </tr>\n",
       "    <tr>\n",
       "      <th>4</th>\n",
       "      <td>33</td>\n",
       "      <td>Jogging</td>\n",
       "      <td>49106332290000</td>\n",
       "      <td>-1.184970</td>\n",
       "      <td>12.108489</td>\n",
       "      <td>7.205164</td>\n",
       "    </tr>\n",
       "  </tbody>\n",
       "</table>\n",
       "</div>"
      ],
      "text/plain": [
       "   user activity       timestamp    x-axis     y-axis    z-axis\n",
       "0    33  Jogging  49105962326000 -0.694638  12.680544  0.503953\n",
       "1    33  Jogging  49106062271000  5.012288  11.264028  0.953424\n",
       "2    33  Jogging  49106112167000  4.903325  10.882658 -0.081722\n",
       "3    33  Jogging  49106222305000 -0.612916  18.496431  3.023717\n",
       "4    33  Jogging  49106332290000 -1.184970  12.108489  7.205164"
      ]
     },
     "execution_count": 3,
     "metadata": {
      "tags": []
     },
     "output_type": "execute_result"
    }
   ],
   "source": [
    "df.head()"
   ]
  },
  {
   "cell_type": "code",
   "execution_count": null,
   "metadata": {
    "colab": {
     "base_uri": "https://localhost:8080/"
    },
    "id": "NH7mJlRKKpeH",
    "outputId": "b4713dc7-d466-44ad-965b-bdef943c2992"
   },
   "outputs": [
    {
     "data": {
      "text/plain": [
       "Walking       424397\n",
       "Jogging       342176\n",
       "Upstairs      122869\n",
       "Downstairs    100427\n",
       "Sitting        59939\n",
       "Standing       48395\n",
       "Name: activity, dtype: int64"
      ]
     },
     "execution_count": 4,
     "metadata": {
      "tags": []
     },
     "output_type": "execute_result"
    }
   ],
   "source": [
    "df.activity.value_counts()"
   ]
  },
  {
   "cell_type": "code",
   "execution_count": null,
   "metadata": {
    "id": "hCyksTH5Kpgv"
   },
   "outputs": [],
   "source": [
    "N_TIME_STEPS = 200\n",
    "N_FEATURES = 3\n",
    "step = 20\n",
    "segments = []\n",
    "labels = []\n",
    "for i in range(0, len(df) - N_TIME_STEPS, step):\n",
    "    xs = df['x-axis'].values[i: i + N_TIME_STEPS]\n",
    "    ys = df['y-axis'].values[i: i + N_TIME_STEPS]\n",
    "    zs = df['z-axis'].values[i: i + N_TIME_STEPS]\n",
    "    label = stats.mode(df['activity'][i: i + N_TIME_STEPS])[0][0]\n",
    "    segments.append([xs, ys, zs])\n",
    "    labels.append(label)"
   ]
  },
  {
   "cell_type": "code",
   "execution_count": null,
   "metadata": {
    "colab": {
     "base_uri": "https://localhost:8080/"
    },
    "id": "2yGwGXMXKpjK",
    "outputId": "e3f525a0-933f-4b0c-f822-e2518463833d"
   },
   "outputs": [
    {
     "data": {
      "text/plain": [
       "(54901, 3, 200)"
      ]
     },
     "execution_count": 6,
     "metadata": {
      "tags": []
     },
     "output_type": "execute_result"
    }
   ],
   "source": [
    "np.array(segments).shape"
   ]
  },
  {
   "cell_type": "code",
   "execution_count": null,
   "metadata": {
    "id": "q783Rj7tKp2F"
   },
   "outputs": [],
   "source": [
    "reshaped_segments = np.asarray(segments, dtype= np.float32).reshape(-1, N_TIME_STEPS, N_FEATURES)\n",
    "labels = np.asarray(pd.get_dummies(labels), dtype = np.float32)"
   ]
  },
  {
   "cell_type": "code",
   "execution_count": null,
   "metadata": {
    "colab": {
     "base_uri": "https://localhost:8080/"
    },
    "id": "IS4B-rzXKp4z",
    "outputId": "22b19078-cd3b-4e1c-d22e-9b1e4f49ee06"
   },
   "outputs": [
    {
     "data": {
      "text/plain": [
       "(54901, 200, 3)"
      ]
     },
     "execution_count": 8,
     "metadata": {
      "tags": []
     },
     "output_type": "execute_result"
    }
   ],
   "source": [
    "reshaped_segments.shape"
   ]
  },
  {
   "cell_type": "code",
   "execution_count": null,
   "metadata": {
    "colab": {
     "base_uri": "https://localhost:8080/"
    },
    "id": "hr09y1lyLa2d",
    "outputId": "2dc14aa0-88c7-444e-ff09-718e1d962ea4"
   },
   "outputs": [
    {
     "data": {
      "text/plain": [
       "array([0., 1., 0., 0., 0., 0.], dtype=float32)"
      ]
     },
     "execution_count": 9,
     "metadata": {
      "tags": []
     },
     "output_type": "execute_result"
    }
   ],
   "source": [
    "labels[0]"
   ]
  },
  {
   "cell_type": "code",
   "execution_count": null,
   "metadata": {
    "id": "Gup2ES--La5R"
   },
   "outputs": [],
   "source": [
    "X_train, X_test, y_train, y_test = train_test_split(\n",
    "        reshaped_segments, labels, test_size=0.2, random_state=RANDOM_SEED)"
   ]
  },
  {
   "cell_type": "code",
   "execution_count": null,
   "metadata": {
    "colab": {
     "base_uri": "https://localhost:8080/"
    },
    "id": "8jTEnTRULbAg",
    "outputId": "5e4b654a-4454-4d56-c3fb-5c885aa07b47"
   },
   "outputs": [
    {
     "data": {
      "text/plain": [
       "43920"
      ]
     },
     "execution_count": 11,
     "metadata": {
      "tags": []
     },
     "output_type": "execute_result"
    }
   ],
   "source": [
    "len(X_train)"
   ]
  },
  {
   "cell_type": "code",
   "execution_count": null,
   "metadata": {
    "colab": {
     "base_uri": "https://localhost:8080/"
    },
    "id": "FGtDxfnCLoam",
    "outputId": "ea102797-07cd-4a7d-d01b-9b61b30566e8"
   },
   "outputs": [
    {
     "data": {
      "text/plain": [
       "10981"
      ]
     },
     "execution_count": 12,
     "metadata": {
      "tags": []
     },
     "output_type": "execute_result"
    }
   ],
   "source": [
    "len(X_test)"
   ]
  },
  {
   "cell_type": "code",
   "execution_count": null,
   "metadata": {
    "colab": {
     "base_uri": "https://localhost:8080/"
    },
    "id": "fMj5PN4FLqcm",
    "outputId": "cc14d810-3822-4f37-d0de-33f62e4096ac"
   },
   "outputs": [
    {
     "data": {
      "text/plain": [
       "(43920, 6)"
      ]
     },
     "execution_count": 14,
     "metadata": {
      "tags": []
     },
     "output_type": "execute_result"
    }
   ],
   "source": [
    "y_train.shape"
   ]
  },
  {
   "cell_type": "code",
   "execution_count": null,
   "metadata": {
    "id": "QT5vF1OzLwE2"
   },
   "outputs": [],
   "source": [
    "timesteps = 200\n",
    "input_dim = 3\n",
    "n_classes = 6"
   ]
  },
  {
   "cell_type": "code",
   "execution_count": null,
   "metadata": {
    "id": "IrQDeizFTSYc"
   },
   "outputs": [],
   "source": [
    "# Initializing parameters\n",
    "epochs = 30\n",
    "batch_size = 16\n",
    "n_hidden = 64"
   ]
  },
  {
   "cell_type": "code",
   "execution_count": null,
   "metadata": {
    "colab": {
     "base_uri": "https://localhost:8080/"
    },
    "id": "ARbF37g9N_Ek",
    "outputId": "3a896574-3d41-4e60-f1f2-9cee9016bff1"
   },
   "outputs": [
    {
     "name": "stdout",
     "output_type": "stream",
     "text": [
      "Model: \"sequential_2\"\n",
      "_________________________________________________________________\n",
      "Layer (type)                 Output Shape              Param #   \n",
      "=================================================================\n",
      "lstm_1 (LSTM)                (None, 32)                4608      \n",
      "_________________________________________________________________\n",
      "dropout_1 (Dropout)          (None, 32)                0         \n",
      "_________________________________________________________________\n",
      "dense_1 (Dense)              (None, 6)                 198       \n",
      "=================================================================\n",
      "Total params: 4,806\n",
      "Trainable params: 4,806\n",
      "Non-trainable params: 0\n",
      "_________________________________________________________________\n"
     ]
    }
   ],
   "source": [
    "# Initiliazing the sequential model\n",
    "model = Sequential()\n",
    "# Configuring the parameters\n",
    "model.add(LSTM(n_hidden, input_shape=(timesteps, input_dim)))\n",
    "# Adding a dropout layer\n",
    "model.add(Dropout(0.5))\n",
    "# Adding a dense output layer with sigmoid activation\n",
    "model.add(Dense(n_classes, activation='sigmoid'))\n",
    "model.summary()"
   ]
  },
  {
   "cell_type": "code",
   "execution_count": null,
   "metadata": {
    "id": "qM0rMmOQTEXU"
   },
   "outputs": [],
   "source": [
    "# Compiling the model\n",
    "model.compile(loss='categorical_crossentropy',\n",
    "              optimizer='rmsprop',\n",
    "              metrics=['accuracy'])\n"
   ]
  },
  {
   "cell_type": "code",
   "execution_count": null,
   "metadata": {
    "colab": {
     "base_uri": "https://localhost:8080/"
    },
    "id": "1FaDNxZ7UmkV",
    "outputId": "74824392-b2c4-45db-a10a-dc252af005e2"
   },
   "outputs": [
    {
     "name": "stdout",
     "output_type": "stream",
     "text": [
      "Epoch 1/30\n",
      "2745/2745 [==============================] - 43s 8ms/step - loss: 0.9472 - accuracy: 0.6541 - val_loss: 0.4742 - val_accuracy: 0.8297\n",
      "Epoch 2/30\n",
      "2745/2745 [==============================] - 23s 8ms/step - loss: 0.5323 - accuracy: 0.8119 - val_loss: 0.4550 - val_accuracy: 0.8339\n",
      "Epoch 3/30\n",
      "2745/2745 [==============================] - 26s 9ms/step - loss: 0.4620 - accuracy: 0.8356 - val_loss: 0.3723 - val_accuracy: 0.8621\n",
      "Epoch 4/30\n",
      "2745/2745 [==============================] - 25s 9ms/step - loss: 0.4147 - accuracy: 0.8516 - val_loss: 0.3545 - val_accuracy: 0.8672\n",
      "Epoch 5/30\n",
      "2745/2745 [==============================] - 23s 8ms/step - loss: 0.3811 - accuracy: 0.8643 - val_loss: 0.3240 - val_accuracy: 0.8784\n",
      "Epoch 6/30\n",
      "2745/2745 [==============================] - 22s 8ms/step - loss: 0.3616 - accuracy: 0.8689 - val_loss: 0.2845 - val_accuracy: 0.8943\n",
      "Epoch 7/30\n",
      "2745/2745 [==============================] - 25s 9ms/step - loss: 0.3310 - accuracy: 0.8812 - val_loss: 0.2748 - val_accuracy: 0.9026\n",
      "Epoch 8/30\n",
      "2745/2745 [==============================] - 23s 8ms/step - loss: 0.3272 - accuracy: 0.8839 - val_loss: 0.2630 - val_accuracy: 0.9023\n",
      "Epoch 9/30\n",
      "2745/2745 [==============================] - 22s 8ms/step - loss: 0.3046 - accuracy: 0.8910 - val_loss: 0.2542 - val_accuracy: 0.9045\n",
      "Epoch 10/30\n",
      "2745/2745 [==============================] - 22s 8ms/step - loss: 0.2947 - accuracy: 0.8960 - val_loss: 0.2453 - val_accuracy: 0.9091\n",
      "Epoch 11/30\n",
      "2745/2745 [==============================] - 22s 8ms/step - loss: 0.2891 - accuracy: 0.8963 - val_loss: 0.2397 - val_accuracy: 0.9206\n",
      "Epoch 12/30\n",
      "2745/2745 [==============================] - 22s 8ms/step - loss: 0.2790 - accuracy: 0.9037 - val_loss: 0.2611 - val_accuracy: 0.9158\n",
      "Epoch 13/30\n",
      "2745/2745 [==============================] - 22s 8ms/step - loss: 0.2822 - accuracy: 0.9037 - val_loss: 0.2230 - val_accuracy: 0.9183\n",
      "Epoch 14/30\n",
      "2745/2745 [==============================] - 25s 9ms/step - loss: 0.2679 - accuracy: 0.9082 - val_loss: 0.2316 - val_accuracy: 0.9183\n",
      "Epoch 15/30\n",
      "2745/2745 [==============================] - 22s 8ms/step - loss: 0.2634 - accuracy: 0.9129 - val_loss: 0.2372 - val_accuracy: 0.9234\n",
      "Epoch 16/30\n",
      "2745/2745 [==============================] - 25s 9ms/step - loss: 0.2642 - accuracy: 0.9109 - val_loss: 0.2274 - val_accuracy: 0.9235\n",
      "Epoch 17/30\n",
      "2745/2745 [==============================] - 25s 9ms/step - loss: 0.2576 - accuracy: 0.9140 - val_loss: 0.2623 - val_accuracy: 0.9159\n",
      "Epoch 18/30\n",
      "2745/2745 [==============================] - 23s 8ms/step - loss: 0.2409 - accuracy: 0.9171 - val_loss: 0.2333 - val_accuracy: 0.9203\n",
      "Epoch 19/30\n",
      "2745/2745 [==============================] - 25s 9ms/step - loss: 0.2437 - accuracy: 0.9168 - val_loss: 0.1931 - val_accuracy: 0.9334\n",
      "Epoch 20/30\n",
      "2745/2745 [==============================] - 22s 8ms/step - loss: 0.2354 - accuracy: 0.9191 - val_loss: 0.2290 - val_accuracy: 0.9276\n",
      "Epoch 21/30\n",
      "2745/2745 [==============================] - 22s 8ms/step - loss: 0.2316 - accuracy: 0.9218 - val_loss: 0.2128 - val_accuracy: 0.9266\n",
      "Epoch 22/30\n",
      "2745/2745 [==============================] - 22s 8ms/step - loss: 0.2319 - accuracy: 0.9231 - val_loss: 0.2432 - val_accuracy: 0.9230\n",
      "Epoch 23/30\n",
      "2745/2745 [==============================] - 25s 9ms/step - loss: 0.2219 - accuracy: 0.9285 - val_loss: 0.1925 - val_accuracy: 0.9314\n",
      "Epoch 24/30\n",
      "2745/2745 [==============================] - 22s 8ms/step - loss: 0.2247 - accuracy: 0.9280 - val_loss: 0.1990 - val_accuracy: 0.9320\n",
      "Epoch 25/30\n",
      "2745/2745 [==============================] - 22s 8ms/step - loss: 0.2113 - accuracy: 0.9299 - val_loss: 0.2291 - val_accuracy: 0.9304\n",
      "Epoch 26/30\n",
      "2745/2745 [==============================] - 22s 8ms/step - loss: 0.2128 - accuracy: 0.9316 - val_loss: 0.1779 - val_accuracy: 0.9404\n",
      "Epoch 27/30\n",
      "2745/2745 [==============================] - 22s 8ms/step - loss: 0.1936 - accuracy: 0.9374 - val_loss: 0.2085 - val_accuracy: 0.9353\n",
      "Epoch 28/30\n",
      "2745/2745 [==============================] - 22s 8ms/step - loss: 0.2050 - accuracy: 0.9341 - val_loss: 0.2073 - val_accuracy: 0.9352\n",
      "Epoch 29/30\n",
      "2745/2745 [==============================] - 22s 8ms/step - loss: 0.2035 - accuracy: 0.9339 - val_loss: 0.1756 - val_accuracy: 0.9408\n",
      "Epoch 30/30\n",
      "2745/2745 [==============================] - 25s 9ms/step - loss: 0.2051 - accuracy: 0.9365 - val_loss: 0.2544 - val_accuracy: 0.9262\n"
     ]
    },
    {
     "data": {
      "text/plain": [
       "<keras.callbacks.History at 0x7f31e9f8aa50>"
      ]
     },
     "execution_count": 32,
     "metadata": {
      "tags": []
     },
     "output_type": "execute_result"
    }
   ],
   "source": [
    "# Training the model\n",
    "model.fit(X_train,\n",
    "          y_train,\n",
    "          batch_size=batch_size,\n",
    "          validation_data=(X_test, y_test),\n",
    "          epochs=epochs)"
   ]
  },
  {
   "cell_type": "code",
   "execution_count": null,
   "metadata": {
    "colab": {
     "base_uri": "https://localhost:8080/"
    },
    "id": "0YvzbBrHX4VG",
    "outputId": "876a2022-b508-4897-ff2f-00ce2b4b5dcf"
   },
   "outputs": [
    {
     "name": "stdout",
     "output_type": "stream",
     "text": [
      "Model Summary: \n",
      "Model: \"sequential\"\n",
      "_________________________________________________________________\n",
      "Layer (type)                 Output Shape              Param #   \n",
      "=================================================================\n",
      "lstm (LSTM)                  (None, 200, 64)           17408     \n",
      "_________________________________________________________________\n",
      "batch_normalization (BatchNo (None, 200, 64)           256       \n",
      "_________________________________________________________________\n",
      "dropout (Dropout)            (None, 200, 64)           0         \n",
      "_________________________________________________________________\n",
      "lstm_1 (LSTM)                (None, 48)                21696     \n",
      "_________________________________________________________________\n",
      "dropout_1 (Dropout)          (None, 48)                0         \n",
      "_________________________________________________________________\n",
      "dense (Dense)                (None, 6)                 294       \n",
      "=================================================================\n",
      "Total params: 39,654\n",
      "Trainable params: 39,526\n",
      "Non-trainable params: 128\n",
      "_________________________________________________________________\n"
     ]
    }
   ],
   "source": [
    "# Model execution\n",
    "model = Sequential()\n",
    "model.add(LSTM(64, input_shape=(timesteps, input_dim),return_sequences=True))\n",
    "model.add(BatchNormalization())\n",
    "model.add(Dropout(0.50))\n",
    "model.add(LSTM(48))\n",
    "model.add(Dropout(0.50))\n",
    "model.add(Dense(n_classes, activation='sigmoid'))\n",
    "print(\"Model Summary: \")\n",
    "model.summary()"
   ]
  },
  {
   "cell_type": "code",
   "execution_count": null,
   "metadata": {
    "id": "e8bMnAb6oXey"
   },
   "outputs": [],
   "source": [
    "# Compiling the model\n",
    "model.compile(loss='categorical_crossentropy',\n",
    "              optimizer='rmsprop',\n",
    "              metrics=['accuracy'])"
   ]
  },
  {
   "cell_type": "code",
   "execution_count": null,
   "metadata": {
    "colab": {
     "base_uri": "https://localhost:8080/"
    },
    "id": "YGca_Dr3oaz4",
    "outputId": "38722df0-c4ce-4752-828d-462bac2e01ac"
   },
   "outputs": [
    {
     "name": "stdout",
     "output_type": "stream",
     "text": [
      "Epoch 1/30\n",
      "2745/2745 [==============================] - 299s 99ms/step - loss: 0.7699 - accuracy: 0.7261 - val_loss: 0.3962 - val_accuracy: 0.8605\n",
      "Epoch 2/30\n",
      "2745/2745 [==============================] - 272s 99ms/step - loss: 0.3750 - accuracy: 0.8688 - val_loss: 0.2798 - val_accuracy: 0.8993\n",
      "Epoch 3/30\n",
      "2745/2745 [==============================] - 270s 98ms/step - loss: 0.2826 - accuracy: 0.9044 - val_loss: 0.2446 - val_accuracy: 0.9236\n",
      "Epoch 4/30\n",
      "2745/2745 [==============================] - 265s 97ms/step - loss: 0.2350 - accuracy: 0.9263 - val_loss: 0.2029 - val_accuracy: 0.9378\n",
      "Epoch 5/30\n",
      "2745/2745 [==============================] - 267s 97ms/step - loss: 0.1992 - accuracy: 0.9390 - val_loss: 0.1428 - val_accuracy: 0.9548\n",
      "Epoch 6/30\n",
      "2745/2745 [==============================] - 271s 99ms/step - loss: 0.1835 - accuracy: 0.9468 - val_loss: 0.1585 - val_accuracy: 0.9475\n",
      "Epoch 7/30\n",
      "2745/2745 [==============================] - 271s 99ms/step - loss: 0.1537 - accuracy: 0.9533 - val_loss: 0.1454 - val_accuracy: 0.9557\n",
      "Epoch 8/30\n",
      "2745/2745 [==============================] - 268s 98ms/step - loss: 0.1505 - accuracy: 0.9575 - val_loss: 0.1175 - val_accuracy: 0.9657\n",
      "Epoch 9/30\n",
      "2745/2745 [==============================] - 269s 98ms/step - loss: 0.1313 - accuracy: 0.9623 - val_loss: 0.1286 - val_accuracy: 0.9611\n",
      "Epoch 10/30\n",
      "2745/2745 [==============================] - 271s 99ms/step - loss: 0.1265 - accuracy: 0.9649 - val_loss: 0.1289 - val_accuracy: 0.9679\n",
      "Epoch 11/30\n",
      "2745/2745 [==============================] - 271s 99ms/step - loss: 0.1183 - accuracy: 0.9659 - val_loss: 0.1093 - val_accuracy: 0.9724\n",
      "Epoch 12/30\n",
      "2745/2745 [==============================] - 271s 99ms/step - loss: 0.1133 - accuracy: 0.9696 - val_loss: 0.1234 - val_accuracy: 0.9648\n",
      "Epoch 13/30\n",
      "2745/2745 [==============================] - 264s 96ms/step - loss: 0.1070 - accuracy: 0.9721 - val_loss: 0.1302 - val_accuracy: 0.9635\n",
      "Epoch 14/30\n",
      "2745/2745 [==============================] - 264s 96ms/step - loss: 0.1027 - accuracy: 0.9725 - val_loss: 0.1446 - val_accuracy: 0.9628\n",
      "Epoch 15/30\n",
      "2745/2745 [==============================] - 264s 96ms/step - loss: 0.1110 - accuracy: 0.9710 - val_loss: 0.1199 - val_accuracy: 0.9703\n",
      "Epoch 16/30\n",
      "2745/2745 [==============================] - 263s 96ms/step - loss: 0.0942 - accuracy: 0.9752 - val_loss: 0.1132 - val_accuracy: 0.9731\n",
      "Epoch 17/30\n",
      "2745/2745 [==============================] - 262s 96ms/step - loss: 0.0931 - accuracy: 0.9767 - val_loss: 0.0976 - val_accuracy: 0.9777\n",
      "Epoch 18/30\n",
      "2745/2745 [==============================] - 262s 95ms/step - loss: 0.0887 - accuracy: 0.9779 - val_loss: 0.0822 - val_accuracy: 0.9772\n",
      "Epoch 19/30\n",
      "2745/2745 [==============================] - 262s 96ms/step - loss: 0.0859 - accuracy: 0.9769 - val_loss: 0.1461 - val_accuracy: 0.9710\n",
      "Epoch 20/30\n",
      "2745/2745 [==============================] - 262s 96ms/step - loss: 0.0902 - accuracy: 0.9780 - val_loss: 0.0886 - val_accuracy: 0.9771\n",
      "Epoch 21/30\n",
      "2745/2745 [==============================] - 263s 96ms/step - loss: 0.0845 - accuracy: 0.9791 - val_loss: 0.0900 - val_accuracy: 0.9737\n",
      "Epoch 22/30\n",
      "2745/2745 [==============================] - 262s 96ms/step - loss: 0.0780 - accuracy: 0.9811 - val_loss: 0.1053 - val_accuracy: 0.9754\n",
      "Epoch 23/30\n",
      "2745/2745 [==============================] - 262s 96ms/step - loss: 0.0944 - accuracy: 0.9793 - val_loss: 0.0748 - val_accuracy: 0.9799\n",
      "Epoch 24/30\n",
      "2745/2745 [==============================] - 263s 96ms/step - loss: 0.0843 - accuracy: 0.9800 - val_loss: 0.1114 - val_accuracy: 0.9709\n",
      "Epoch 25/30\n",
      "2745/2745 [==============================] - 263s 96ms/step - loss: 0.0784 - accuracy: 0.9802 - val_loss: 0.0961 - val_accuracy: 0.9744\n",
      "Epoch 26/30\n",
      "2745/2745 [==============================] - 263s 96ms/step - loss: 0.0826 - accuracy: 0.9811 - val_loss: 0.0856 - val_accuracy: 0.9794\n",
      "Epoch 27/30\n",
      "2745/2745 [==============================] - 263s 96ms/step - loss: 0.0705 - accuracy: 0.9825 - val_loss: 0.0910 - val_accuracy: 0.9758\n",
      "Epoch 28/30\n",
      "2745/2745 [==============================] - 263s 96ms/step - loss: 0.0771 - accuracy: 0.9814 - val_loss: 0.1048 - val_accuracy: 0.9758\n",
      "Epoch 29/30\n",
      "2745/2745 [==============================] - 263s 96ms/step - loss: 0.0819 - accuracy: 0.9811 - val_loss: 0.1049 - val_accuracy: 0.9734\n",
      "Epoch 30/30\n",
      "2745/2745 [==============================] - 263s 96ms/step - loss: 0.0815 - accuracy: 0.9821 - val_loss: 0.0811 - val_accuracy: 0.9801\n"
     ]
    }
   ],
   "source": [
    "# Training the model\n",
    "history=model.fit(X_train,\n",
    "          y_train,\n",
    "          batch_size=batch_size,\n",
    "          validation_data=(X_test, y_test),\n",
    "          epochs=epochs)"
   ]
  },
  {
   "cell_type": "code",
   "execution_count": null,
   "metadata": {
    "colab": {
     "base_uri": "https://localhost:8080/",
     "height": 619
    },
    "id": "cxtbkRoHUmnn",
    "outputId": "b653d30c-6d9a-4d8e-f796-c0ae76c3a55a"
   },
   "outputs": [
    {
     "data": {
      "image/png": "[encoded data removed]",
      "text/plain": [
       "<Figure size 720x288 with 1 Axes>"
      ]
     },
     "metadata": {
      "needs_background": "light",
      "tags": []
     },
     "output_type": "display_data"
    },
    {
     "data": {
      "image/png": "[encoded data removed]",
      "text/plain": [
       "<Figure size 720x288 with 1 Axes>"
      ]
     },
     "metadata": {
      "needs_background": "light",
      "tags": []
     },
     "output_type": "display_data"
    }
   ],
   "source": [
    "\n",
    "from pylab import rcParams\n",
    "rcParams['figure.figsize'] = 10, 4\n",
    "plt.plot(history.history['accuracy'])\n",
    "plt.plot(history.history['val_accuracy'])\n",
    "plt.title('model accuracy')\n",
    "plt.ylabel('accuracy')\n",
    "plt.xlabel('epoch')\n",
    "plt.legend(['train', 'test'], loc='upper left')\n",
    "plt.show()\n",
    "# summarize history for loss\n",
    "plt.plot(history.history['loss'])\n",
    "plt.plot(history.history['val_loss'])\n",
    "plt.title('model loss')\n",
    "plt.ylabel('loss')\n",
    "plt.xlabel('epoch')\n",
    "plt.legend(['train', 'test'], loc='upper left')\n",
    "plt.show()"
   ]
  },
  {
   "cell_type": "code",
   "execution_count": null,
   "metadata": {
    "id": "_C7VeHXDIZDK"
   },
   "outputs": [],
   "source": [
    "pred = model.predict(X_test)\n",
    "pred = np.argmax(pred,axis = 1) \n",
    "y_true = np.argmax(y_test,axis = 1)"
   ]
  },
  {
   "cell_type": "code",
   "execution_count": null,
   "metadata": {
    "colab": {
     "base_uri": "https://localhost:8080/"
    },
    "id": "AQJ4DZSyUmqn",
    "outputId": "67559016-62ff-43e2-f868-1d0a0f3a9e78"
   },
   "outputs": [
    {
     "name": "stdout",
     "output_type": "stream",
     "text": [
      "              precision    recall  f1-score   support\n",
      "\n",
      "           0       0.93      0.94      0.93      1058\n",
      "           1       0.99      0.99      0.99      3447\n",
      "           2       0.99      0.98      0.99       577\n",
      "           3       0.97      1.00      0.98       437\n",
      "           4       0.93      0.95      0.94      1207\n",
      "           5       1.00      0.99      0.99      4255\n",
      "\n",
      "    accuracy                           0.98     10981\n",
      "   macro avg       0.97      0.97      0.97     10981\n",
      "weighted avg       0.98      0.98      0.98     10981\n",
      "\n"
     ]
    }
   ],
   "source": [
    "from sklearn.metrics import classification_report , accuracy_score\n",
    "print(classification_report(y_true, pred))"
   ]
  },
  {
   "cell_type": "code",
   "execution_count": null,
   "metadata": {
    "id": "Ba31Z1UEUmvw"
   },
   "outputs": [],
   "source": [
    " with open('/trainHistoryDict', 'wb') as file_pi:\n",
    "        pickle.dump(history.history, file_pi)"
   ]
  },
  {
   "cell_type": "code",
   "execution_count": null,
   "metadata": {
    "id": "qQY2IK1pKAG9"
   },
   "outputs": [],
   "source": [
    "%matplotlib inline\n",
    "import numpy as np\n",
    "\n",
    "def plot_confusion_matrix(cm,\n",
    "                          target_names,\n",
    "                          title='Confusion matrix',\n",
    "                          cmap=None,\n",
    "                          normalize=True):\n",
    "    import matplotlib.pyplot as plt\n",
    "    import numpy as np\n",
    "    import itertools\n",
    "    accuracy = np.trace(cm) / float(np.sum(cm))\n",
    "    misclass = 1 - accuracy\n",
    "    if cmap is None:\n",
    "        cmap = plt.get_cmap('Blues')\n",
    "    plt.figure(figsize=(8, 6))\n",
    "    plt.imshow(cm, interpolation='nearest', cmap=cmap)\n",
    "    plt.title(title)\n",
    "    plt.colorbar()\n",
    "    if target_names is not None:\n",
    "        tick_marks = np.arange(len(target_names))\n",
    "        plt.xticks(tick_marks, target_names, rotation=45)\n",
    "        plt.yticks(tick_marks, target_names)\n",
    "    if normalize:\n",
    "        cm = cm.astype('float') / cm.sum(axis=1)[:, np.newaxis]\n",
    "    thresh = cm.max() / 1.5 if normalize else cm.max() / 2\n",
    "    for i, j in itertools.product(range(cm.shape[0]), range(cm.shape[1])):\n",
    "        if normalize:\n",
    "            plt.text(j, i, \"{:0.4f}\".format(cm[i, j]),\n",
    "                     horizontalalignment=\"center\",\n",
    "                     color=\"white\" if cm[i, j] > thresh else \"black\")\n",
    "        else:\n",
    "            plt.text(j, i, \"{:,}\".format(cm[i, j]),\n",
    "                     horizontalalignment=\"center\",\n",
    "                     color=\"white\" if cm[i, j] > thresh else \"black\")\n",
    "    plt.tight_layout()\n",
    "    plt.ylabel('True label')\n",
    "    plt.xlabel('Predicted label\\naccuracy={:0.4f}; misclass={:0.4f}'.format(accuracy, misclass))\n",
    "    plt.show()"
   ]
  },
  {
   "cell_type": "code",
   "execution_count": null,
   "metadata": {
    "id": "l2YRFiMKKm4f"
   },
   "outputs": [],
   "source": [
    "from sklearn.metrics import confusion_matrix\n",
    "CM = confusion_matrix(y_true, pred)"
   ]
  },
  {
   "cell_type": "code",
   "execution_count": null,
   "metadata": {
    "colab": {
     "base_uri": "https://localhost:8080/",
     "height": 484
    },
    "id": "YbfkG6dkKeRB",
    "outputId": "0da0aca2-b844-484b-8f66-452fcf70ae19"
   },
   "outputs": [
    {
     "data": {
      "image/png": "[encoded data removed]",
      "text/plain": [
       "<Figure size 576x432 with 2 Axes>"
      ]
     },
     "metadata": {
      "needs_background": "light",
      "tags": []
     },
     "output_type": "display_data"
    }
   ],
   "source": [
    "plot_confusion_matrix(CM, \n",
    "                      normalize    = False,\n",
    "                      target_names=['Downstairs','Jogging','Sitting','Standing','Upstairs','Walking'],\n",
    "                      title        = \"Confusion Matrix\")"
   ]
  },
  {
   "cell_type": "code",
   "execution_count": null,
   "metadata": {
    "id": "85bG9SErUWd0"
   },
   "outputs": [],
   "source": [
    "#### Conclusion\n",
    "1. In recent years, traditional machine learning methods hav progressed markedly. Machine learning techniques can be\\\n",
    "helpful, but it has a limitation of domain knowledge.\n",
    "2. "
   ]
  }
 ],
 "metadata": {
  "colab": {
   "name": "HAR.ipynb",
   "provenance": []
  },
  "kernelspec": {
   "display_name": "Python 3",
   "language": "python",
   "name": "python3"
  },
  "language_info": {
   "codemirror_mode": {
    "name": "ipython",
    "version": 3
   },
   "file_extension": ".py",
   "mimetype": "text/x-python",
   "name": "python",
   "nbconvert_exporter": "python",
   "pygments_lexer": "ipython3",
   "version": "3.8.5"
  }
 },
 "nbformat": 4,
 "nbformat_minor": 1
}
