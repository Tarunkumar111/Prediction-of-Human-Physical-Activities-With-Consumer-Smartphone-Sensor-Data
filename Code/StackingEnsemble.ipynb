{
 "cells": [
  {
   "cell_type": "markdown",
   "metadata": {},
   "source": [
    "### Import libraries"
   ]
  },
  {
   "cell_type": "code",
   "execution_count": null,
   "metadata": {
    "colab": {
     "base_uri": "https://localhost:8080/"
    },
    "id": "gr4OwAQPBt99",
    "outputId": "fcab1fff-d21b-4014-c6f5-0634ac91f277"
   },
   "outputs": [
    {
     "name": "stdout",
     "output_type": "stream",
     "text": [
      "Using matplotlib backend: agg\n"
     ]
    }
   ],
   "source": [
    "import warnings\n",
    "warnings.filterwarnings(\"ignore\")\n",
    "warnings.simplefilter(action='ignore', category=FutureWarning)\n",
    "warnings.simplefilter(action='ignore', category=UserWarning)\n",
    "%matplotlib inline\n",
    "import itertools\n",
    "from datetime import datetime\n",
    "import numpy as np\n",
    "import pandas as pd\n",
    "import matplotlib.pyplot as plt\n",
    "plt.rcParams[\"font.family\"] = 'DejaVu Sans'\n",
    "import seaborn as sns\n",
    "%matplotlib \n",
    "# To be able to save images on server\n",
    "import matplotlib\n",
    "matplotlib.use('Agg')\n",
    "from matplotlib import pyplot\n",
    "\n",
    "from sklearn.manifold import TSNE\n",
    "from sklearn.metrics import confusion_matrix\n",
    "from sklearn import linear_model\n",
    "from sklearn import metrics\n",
    "from sklearn.model_selection import GridSearchCV\n",
    "from sklearn.linear_model import LogisticRegression\n",
    "from sklearn.svm import LinearSVC\n",
    "from sklearn.svm import SVC\n",
    "from sklearn.tree import DecisionTreeClassifier\n",
    "from sklearn.ensemble import RandomForestClassifier\n",
    "from sklearn.ensemble import GradientBoostingClassifier\n",
    "\n",
    "# Importing tensorflow\n",
    "np.random.seed(42)\n",
    "import tensorflow as tf\n",
    "tf.random.set_seed(42)\n",
    "\n",
    "from tensorflow.compat.v1.keras import backend as K\n",
    "#from keras.models import Sequential\n",
    "from tensorflow.keras.models import Sequential\n",
    "from keras.layers import LSTM , BatchNormalization\n",
    "from keras.layers.core import Dense, Dropout\n",
    "from keras.regularizers import L1L2"
   ]
  },
  {
   "cell_type": "code",
   "execution_count": null,
   "metadata": {
    "id": "zCOpf3t_CNo1"
   },
   "outputs": [],
   "source": [
    "# Read train and test data\n",
    "train=pd.read_csv(\"/content/drive/MyDrive/DataSet CS/HumanActivityRecognition/HAR/UCI_HAR_Dataset/csv_files/train.csv\")\n",
    "test=pd.read_csv(\"/content/drive/MyDrive/DataSet CS/HumanActivityRecognition/HAR/UCI_HAR_Dataset/csv_files/test.csv\")"
   ]
  },
  {
   "cell_type": "code",
   "execution_count": null,
   "metadata": {
    "colab": {
     "base_uri": "https://localhost:8080/"
    },
    "id": "60WCn-RXCNrw",
    "outputId": "8ed9625f-d6f3-4fed-c5aa-3bd69d606944"
   },
   "outputs": [
    {
     "name": "stdout",
     "output_type": "stream",
     "text": [
      "(7352, 564) (2947, 564)\n"
     ]
    }
   ],
   "source": [
    "print(train.shape,test.shape)"
   ]
  },
  {
   "cell_type": "code",
   "execution_count": null,
   "metadata": {
    "id": "lI-ZK1DACqCK"
   },
   "outputs": [],
   "source": [
    "X_train=train.drop(['subject','Activity','ActivityName'],axis=1)\n",
    "y_train=train.Activity\n",
    "X_test=test.drop(['subject','Activity','ActivityName'],axis=1)\n",
    "y_test=test.Activity"
   ]
  },
  {
   "cell_type": "markdown",
   "metadata": {
    "id": "7RWl4y2ZDh0z"
   },
   "source": [
    "### Stacked ensemble model with LogisticRegression as a meta classifier"
   ]
  },
  {
   "cell_type": "code",
   "execution_count": null,
   "metadata": {
    "id": "pe2sj4v0CqHP"
   },
   "outputs": [],
   "source": [
    "from sklearn.ensemble import StackingClassifier\n",
    "estimator_list = [\n",
    "    ('lr',LogisticRegression(C=30, class_weight=None, dual=False, fit_intercept=True,\n",
    " intercept_scaling=1, max_iter=100,\n",
    " n_jobs=None, penalty='l2', random_state=None,\n",
    " tol=0.0001, verbose=0, warm_start=False)),\n",
    "    ('svm',LinearSVC(C=2, class_weight=None, dual=True, fit_intercept=True,\n",
    " intercept_scaling=1, loss='squared_hinge', max_iter=1000,\n",
    " multi_class='ovr', penalty='l2', random_state=None, tol=5e-05,\n",
    " verbose=0)),\n",
    "    ('RSVM',SVC(C=16, cache_size=200, class_weight=None, coef0=0.0,\n",
    " decision_function_shape='ovr', degree=3, gamma=0.0078125, kernel='rbf',\n",
    " max_iter=-1, probability=False, random_state=None, shrinking=True,\n",
    " tol=0.001, verbose=False))]"
   ]
  },
  {
   "cell_type": "code",
   "execution_count": null,
   "metadata": {
    "id": "KdMxqN-uejJI"
   },
   "outputs": [],
   "source": [
    "# Build stack model\n",
    "stack_model = StackingClassifier(\n",
    "    estimators=estimator_list, final_estimator=LogisticRegression()\n",
    ")"
   ]
  },
  {
   "cell_type": "code",
   "execution_count": null,
   "metadata": {
    "colab": {
     "base_uri": "https://localhost:8080/"
    },
    "id": "Tf_u9D8Ief2T",
    "outputId": "41f78923-b122-4752-df61-28a3bd6f2e5c"
   },
   "outputs": [
    {
     "name": "stdout",
     "output_type": "stream",
     "text": [
      "0.9531727180183237\n",
      "[[489   5   2   0   0   0]\n",
      " [ 49 421   1   0   0   0]\n",
      " [  5  10 405   0   0   0]\n",
      " [  0   0   0 435  56   0]\n",
      " [  0   0   0  10 522   0]\n",
      " [  0   0   0   0   0 537]]\n"
     ]
    }
   ],
   "source": [
    "stack_model.fit(X_train,y_train)\n",
    "y_pred=stack_model.predict(X_test)\n",
    "accuracy = metrics.accuracy_score(y_true=y_test, y_pred=y_pred)\n",
    "cm = metrics.confusion_matrix(y_test, y_pred)\n",
    "print(accuracy)\n",
    "print(cm)"
   ]
  },
  {
   "cell_type": "code",
   "execution_count": null,
   "metadata": {
    "colab": {
     "base_uri": "https://localhost:8080/"
    },
    "id": "Hx8LTN4dCqJC",
    "outputId": "b798e221-0378-4708-a146-e099a50aec6d"
   },
   "outputs": [
    {
     "name": "stdout",
     "output_type": "stream",
     "text": [
      "              precision    recall  f1-score   support\n",
      "\n",
      "           1       0.90      0.99      0.94       496\n",
      "           2       0.97      0.89      0.93       471\n",
      "           3       0.99      0.96      0.98       420\n",
      "           4       0.98      0.89      0.93       491\n",
      "           5       0.90      0.98      0.94       532\n",
      "           6       1.00      1.00      1.00       537\n",
      "\n",
      "    accuracy                           0.95      2947\n",
      "   macro avg       0.96      0.95      0.95      2947\n",
      "weighted avg       0.96      0.95      0.95      2947\n",
      "\n"
     ]
    }
   ],
   "source": [
    "from sklearn.metrics import classification_report\n",
    "print(classification_report(y_test, y_pred))"
   ]
  },
  {
   "cell_type": "code",
   "execution_count": null,
   "metadata": {
    "id": "V-4P_axaFNQt"
   },
   "outputs": [],
   "source": [
    "%matplotlib inline\n",
    "import numpy as np\n",
    "\n",
    "def plot_confusion_matrix(cm,\n",
    "                          target_names,\n",
    "                          title='Confusion matrix',\n",
    "                          cmap=None,\n",
    "                          normalize=True):\n",
    "    import matplotlib.pyplot as plt\n",
    "    import numpy as np\n",
    "    import itertools\n",
    "    accuracy = np.trace(cm) / float(np.sum(cm))\n",
    "    misclass = 1 - accuracy\n",
    "    if cmap is None:\n",
    "        cmap = plt.get_cmap('Blues')\n",
    "    plt.figure(figsize=(8, 6))\n",
    "    plt.imshow(cm, interpolation='nearest', cmap=cmap)\n",
    "    plt.title(title)\n",
    "    plt.colorbar()\n",
    "    if target_names is not None:\n",
    "        tick_marks = np.arange(len(target_names))\n",
    "        plt.xticks(tick_marks, target_names, rotation=45)\n",
    "        plt.yticks(tick_marks, target_names)\n",
    "    if normalize:\n",
    "        cm = cm.astype('float') / cm.sum(axis=1)[:, np.newaxis]\n",
    "    thresh = cm.max() / 1.5 if normalize else cm.max() / 2\n",
    "    for i, j in itertools.product(range(cm.shape[0]), range(cm.shape[1])):\n",
    "        if normalize:\n",
    "            plt.text(j, i, \"{:0.4f}\".format(cm[i, j]),\n",
    "                     horizontalalignment=\"center\",\n",
    "                     color=\"white\" if cm[i, j] > thresh else \"black\")\n",
    "        else:\n",
    "            plt.text(j, i, \"{:,}\".format(cm[i, j]),\n",
    "                     horizontalalignment=\"center\",\n",
    "                     color=\"white\" if cm[i, j] > thresh else \"black\")\n",
    "    plt.tight_layout()\n",
    "    plt.ylabel('True label')\n",
    "    plt.xlabel('Predicted label\\naccuracy={:0.4f}; misclass={:0.4f}'.format(accuracy, misclass))\n",
    "    plt.show()"
   ]
  },
  {
   "cell_type": "code",
   "execution_count": null,
   "metadata": {
    "colab": {
     "base_uri": "https://localhost:8080/",
     "height": 467
    },
    "id": "YLBETDJ-FQmT",
    "outputId": "594ce327-9df2-4d3d-8099-ec3968454ae2"
   },
   "outputs": [
    {
     "data": {
      "image/png": "[encoded data removed]",
      "text/plain": [
       "<Figure size 576x432 with 2 Axes>"
      ]
     },
     "metadata": {
      "tags": []
     },
     "output_type": "display_data"
    }
   ],
   "source": [
    "plot_confusion_matrix(cm, \n",
    "                      normalize    = False,\n",
    "                      target_names=['LAYING','SITTING','STANDING','WALKING','WALKING_UPSTAIRS','WALKING_DOWNSTAIRS'],\n",
    "                      title        = \"Confusion Matrix\")\n"
   ]
  },
  {
   "cell_type": "code",
   "execution_count": null,
   "metadata": {
    "colab": {
     "base_uri": "https://localhost:8080/"
    },
    "id": "ZNxfPSZwFg8c",
    "outputId": "41df192b-6249-4ea1-a969-1d6f8c44f572"
   },
   "outputs": [
    {
     "data": {
      "text/plain": [
       "array(['STANDING', 'SITTING', 'LAYING', 'WALKING', 'WALKING_DOWNSTAIRS',\n",
       "       'WALKING_UPSTAIRS'], dtype=object)"
      ]
     },
     "execution_count": 23,
     "metadata": {
      "tags": []
     },
     "output_type": "execute_result"
    }
   ],
   "source": [
    "train['ActivityName'].unique()"
   ]
  },
  {
   "cell_type": "code",
   "execution_count": null,
   "metadata": {
    "id": "2PRxIVJiQsfN"
   },
   "outputs": [],
   "source": [
    "from sklearn.neighbors import KNeighborsClassifier\n",
    "from sklearn.linear_model import RidgeClassifier"
   ]
  },
  {
   "cell_type": "markdown",
   "metadata": {},
   "source": [
    "### Stacked ensemble model with RBF SVM as a meta classifier"
   ]
  },
  {
   "cell_type": "code",
   "execution_count": null,
   "metadata": {
    "id": "OT5kpcNH7hxJ"
   },
   "outputs": [],
   "source": [
    "# Build stack model\n",
    "clf = StackingClassifier(\n",
    "    estimators=estimator_list, final_estimator=SVC()\n",
    ")"
   ]
  },
  {
   "cell_type": "code",
   "execution_count": null,
   "metadata": {
    "colab": {
     "background_save": true,
     "base_uri": "https://localhost:8080/"
    },
    "id": "2ifQx2UBXqyi",
    "outputId": "811ba741-1e0d-4b6f-ac55-58affb931fb5"
   },
   "outputs": [
    {
     "name": "stdout",
     "output_type": "stream",
     "text": [
      "0.9667458432304038\n",
      "[[491   2   3   0   0   0]\n",
      " [ 18 451   2   0   0   0]\n",
      " [  2   9 409   0   0   0]\n",
      " [  0   1   0 439  51   0]\n",
      " [  0   0   0  10 522   0]\n",
      " [  0   0   0   0   0 537]]\n"
     ]
    }
   ],
   "source": [
    "clf.fit(X_train,y_train)\n",
    "y_pred=clf.predict(X_test)\n",
    "accuracy = metrics.accuracy_score(y_true=y_test, y_pred=y_pred)\n",
    "cm = metrics.confusion_matrix(y_test, y_pred)\n",
    "print(accuracy)\n",
    "print(cm)"
   ]
  },
  {
   "cell_type": "code",
   "execution_count": null,
   "metadata": {
    "colab": {
     "base_uri": "https://localhost:8080/"
    },
    "id": "3IIKT72G9O43",
    "outputId": "aa063c7a-30ff-4d0a-f8dc-a1ab23694cfd"
   },
   "outputs": [
    {
     "name": "stdout",
     "output_type": "stream",
     "text": [
      "              precision    recall  f1-score   support\n",
      "\n",
      "           1       0.96      0.99      0.98       496\n",
      "           2       0.98      0.96      0.97       471\n",
      "           3       0.99      0.98      0.98       420\n",
      "           4       0.97      0.90      0.93       491\n",
      "           5       0.91      0.98      0.94       532\n",
      "           6       1.00      1.00      1.00       537\n",
      "\n",
      "    accuracy                           0.97      2947\n",
      "   macro avg       0.97      0.97      0.97      2947\n",
      "weighted avg       0.97      0.97      0.97      2947\n",
      "\n"
     ]
    }
   ],
   "source": [
    "# classification report\n",
    "from sklearn.metrics import classification_report\n",
    "print(classification_report(y_test, y_pred))"
   ]
  },
  {
   "cell_type": "code",
   "execution_count": null,
   "metadata": {
    "colab": {
     "base_uri": "https://localhost:8080/",
     "height": 467
    },
    "id": "AHRpfK-bXfsl",
    "outputId": "66d2130c-2e31-48d7-b44b-dbc8e3f0bedd"
   },
   "outputs": [
    {
     "data": {
      "image/png": "[encoded data removed]",
      "text/plain": [
       "<Figure size 576x432 with 2 Axes>"
      ]
     },
     "metadata": {
      "tags": []
     },
     "output_type": "display_data"
    }
   ],
   "source": [
    "# plot colored confusion matrix\n",
    "plot_confusion_matrix(cm, \n",
    "                      normalize    = False,\n",
    "                      target_names=['LAYING','SITTING','STANDING','WALKING','WALKING_UPSTAIRS','WALKING_DOWNSTAIRS'],\n",
    "                      title        = \"Confusion Matrix\")"
   ]
  }
 ],
 "metadata": {
  "accelerator": "GPU",
  "colab": {
   "name": "StackingEnsemble.ipynb",
   "provenance": []
  },
  "kernelspec": {
   "display_name": "Python 3",
   "language": "python",
   "name": "python3"
  },
  "language_info": {
   "codemirror_mode": {
    "name": "ipython",
    "version": 3
   },
   "file_extension": ".py",
   "mimetype": "text/x-python",
   "name": "python",
   "nbconvert_exporter": "python",
   "pygments_lexer": "ipython3",
   "version": "3.8.5"
  }
 },
 "nbformat": 4,
 "nbformat_minor": 1
}
